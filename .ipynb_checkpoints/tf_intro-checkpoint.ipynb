{
 "cells": [
  {
   "cell_type": "code",
   "execution_count": 2,
   "id": "7ec598f6-58ad-4a50-888c-33ed4c91c6c6",
   "metadata": {
    "tags": []
   },
   "outputs": [],
   "source": [
    "import pandas as pd\n",
    "from sklearn.model_selection import train_test_split"
   ]
  },
  {
   "cell_type": "code",
   "execution_count": 4,
   "id": "974a607d-5cf6-4ff2-9c6a-6db58ced8999",
   "metadata": {
    "tags": []
   },
   "outputs": [],
   "source": [
    "# Using a TensorFlow model to predict if a customer is likely to churn\n",
    "# our training data comes from a csv file wi we are training the network on th several parameters \n",
    "# the csv file has parameters like \"Contract Type\", \"Monthly Charges\", etc.\n",
    "# the file has retriactive data so we already know which customers churned and which didn't\n",
    "df = pd.read_csv('Churn.csv')\n",
    "# using pandas to bring in our data from the csv file"
   ]
  },
  {
   "cell_type": "code",
   "execution_count": 7,
   "id": "d6890de5-a428-4d4a-ad62-f9b73c527fcc",
   "metadata": {
    "tags": []
   },
   "outputs": [],
   "source": [
    "X = pd.get_dummies(df.drop(['Churn', 'Customer ID'], axis=1))\n",
    "y = df['Churn'].apply(lambda x: 1 if x=='Yes' else 0)\n",
    "# read in our data, do a little preprocessing to remove the csv rows that won't help us \n",
    "# and creat a variable for processing ['Churn'=='Yes'] vs ['Churn'=='No']"
   ]
  },
  {
   "cell_type": "code",
   "execution_count": 9,
   "id": "157e01f7-451a-4d3d-a795-4b209d20bf73",
   "metadata": {
    "tags": []
   },
   "outputs": [],
   "source": [
    "X_train, X_test, y_train, y_test = train_test_split(X, y, test_size=.2)\n",
    "# create a train_test_split, a function from sklearn\n",
    "# This will give us X_train data frame as well as a y_train data frame\n",
    "# SO, we will have an X test and a Y test component"
   ]
  },
  {
   "cell_type": "code",
   "execution_count": 10,
   "id": "979af426-554a-4a05-8dbd-d4e28893ac54",
   "metadata": {
    "collapsed": true,
    "jupyter": {
     "outputs_hidden": true
    },
    "tags": []
   },
   "outputs": [
    {
     "name": "stdout",
     "output_type": "stream",
     "text": [
      "      Senior Citizen  tenure  Monthly Charges  Gender_Female  Gender_Male  \\\n",
      "3242               0       1            20.10              0            1   \n",
      "6884               0      34           105.35              1            0   \n",
      "6853               0      44            61.90              0            1   \n",
      "6865               1       3            25.30              1            0   \n",
      "4262               0      57            54.65              0            1   \n",
      "\n",
      "      Partner_No  Partner_Yes  Dependents_No  Dependents_Yes  \\\n",
      "3242           1            0              1               0   \n",
      "6884           1            0              0               1   \n",
      "6853           0            1              0               1   \n",
      "6865           1            0              1               0   \n",
      "4262           1            0              1               0   \n",
      "\n",
      "      Phone Service_No  ...  Total Charges_995.35  Total Charges_996.45  \\\n",
      "3242                 0  ...                     0                     0   \n",
      "6884                 0  ...                     0                     0   \n",
      "6853                 0  ...                     0                     0   \n",
      "6865                 1  ...                     0                     0   \n",
      "4262                 0  ...                     0                     0   \n",
      "\n",
      "      Total Charges_996.85  Total Charges_996.95  Total Charges_997.65  \\\n",
      "3242                     0                     0                     0   \n",
      "6884                     0                     0                     0   \n",
      "6853                     0                     0                     0   \n",
      "6865                     0                     0                     0   \n",
      "4262                     0                     0                     0   \n",
      "\n",
      "      Total Charges_997.75  Total Charges_998.1  Total Charges_999.45  \\\n",
      "3242                     0                    0                     0   \n",
      "6884                     0                    0                     0   \n",
      "6853                     0                    0                     0   \n",
      "6865                     0                    0                     0   \n",
      "4262                     0                    0                     0   \n",
      "\n",
      "      Total Charges_999.8  Total Charges_999.9  \n",
      "3242                    0                    0  \n",
      "6884                    0                    0  \n",
      "6853                    0                    0  \n",
      "6865                    0                    0  \n",
      "4262                    0                    0  \n",
      "\n",
      "[5 rows x 6575 columns]\n"
     ]
    }
   ],
   "source": [
    "X_train.head()"
   ]
  },
  {
   "cell_type": "code",
   "execution_count": null,
   "id": "263e353d-bac7-4784-a55b-67917acc32b9",
   "metadata": {},
   "outputs": [],
   "source": [
    "from tensorflow.keras.models import Sequential, load_model\n",
    "# The sequential model is going to be our core model class\n",
    "# We've also imported load_model which is going to allow us to reload our model from memory\n",
    "from tensorflow.keras.layers import Dense\n",
    "# Dense is a fully connected layer in our neural network and is going to allow us to create a whole bunch of hidden layers\n",
    "from sklearn.metrics import accuracy_score\n",
    "# accuracy_score is the metric we are going to use to evaluate the performance of our model"
   ]
  },
  {
   "cell_type": "code",
   "execution_count": null,
   "id": "4dd5476e-7f6f-479e-931a-0bb32f8ba35b",
   "metadata": {},
   "outputs": [],
   "source": [
    "# The next thing we need to do is actually build up and compile our model\n",
    "model = Sequential()\n",
    "model.add(Dense(units=32, activation='relu', input_dim=len(X_train.columns)))\n",
    "model.add(Dense(units=64, activation='relu'))\n",
    "model.add(Dense(units=1, activation='sigmoid'))"
   ]
  }
 ],
 "metadata": {
  "kernelspec": {
   "display_name": "Python 3 (ipykernel)",
   "language": "python",
   "name": "python3"
  },
  "language_info": {
   "codemirror_mode": {
    "name": "ipython",
    "version": 3
   },
   "file_extension": ".py",
   "mimetype": "text/x-python",
   "name": "python",
   "nbconvert_exporter": "python",
   "pygments_lexer": "ipython3",
   "version": "3.10.9"
  }
 },
 "nbformat": 4,
 "nbformat_minor": 5
}
